{
  "nbformat": 4,
  "nbformat_minor": 0,
  "metadata": {
    "colab": {
      "name": "yelp_baseline.ipynb",
      "provenance": [],
      "collapsed_sections": []
    },
    "kernelspec": {
      "name": "python3",
      "display_name": "Python 3"
    },
    "accelerator": "GPU"
  },
  "cells": [
    {
      "cell_type": "markdown",
      "metadata": {
        "id": "Dqp4A6lcASV6"
      },
      "source": [
        "# Roberta Classifier on Yelp: baseline\n"
      ]
    },
    {
      "cell_type": "code",
      "metadata": {
        "id": "sWtJcEfMpygI",
        "outputId": "343516b9-22b2-4a1a-fbf6-128898018de7",
        "colab": {
          "base_uri": "https://localhost:8080/"
        }
      },
      "source": [
        "import json\n",
        "import os\n",
        "from typing import List\n",
        "\n",
        "%pip install datasets\n",
        "%pip install transformers\n",
        "import torch\n",
        "from datasets import load_dataset\n",
        "from sklearn.metrics import accuracy_score, precision_recall_fscore_support\n",
        "from torch.utils.data import DataLoader\n",
        "from transformers import AutoModelForSequenceClassification, AutoTokenizer, Trainer, TrainingArguments\n",
        "\n",
        "\n",
        "ROOT_DIR = \"drive/My Drive/Colab Notebooks/nlp/results/yelp_baseline\"\n",
        "if not os.path.exists(ROOT_DIR):\n",
        "    os.mkdir(ROOT_DIR)"
      ],
      "execution_count": 1,
      "outputs": [
        {
          "output_type": "stream",
          "text": [
            "Requirement already satisfied: datasets in /usr/local/lib/python3.6/dist-packages (1.1.2)\n",
            "Requirement already satisfied: pyarrow>=0.17.1 in /usr/local/lib/python3.6/dist-packages (from datasets) (2.0.0)\n",
            "Requirement already satisfied: filelock in /usr/local/lib/python3.6/dist-packages (from datasets) (3.0.12)\n",
            "Requirement already satisfied: dataclasses; python_version < \"3.7\" in /usr/local/lib/python3.6/dist-packages (from datasets) (0.7)\n",
            "Requirement already satisfied: dill in /usr/local/lib/python3.6/dist-packages (from datasets) (0.3.2)\n",
            "Requirement already satisfied: numpy>=1.17 in /usr/local/lib/python3.6/dist-packages (from datasets) (1.18.5)\n",
            "Requirement already satisfied: requests>=2.19.0 in /usr/local/lib/python3.6/dist-packages (from datasets) (2.23.0)\n",
            "Requirement already satisfied: tqdm<4.50.0,>=4.27 in /usr/local/lib/python3.6/dist-packages (from datasets) (4.41.1)\n",
            "Requirement already satisfied: xxhash in /usr/local/lib/python3.6/dist-packages (from datasets) (2.0.0)\n",
            "Requirement already satisfied: pandas in /usr/local/lib/python3.6/dist-packages (from datasets) (1.1.3)\n",
            "Requirement already satisfied: multiprocess in /usr/local/lib/python3.6/dist-packages (from datasets) (0.70.10)\n",
            "Requirement already satisfied: certifi>=2017.4.17 in /usr/local/lib/python3.6/dist-packages (from requests>=2.19.0->datasets) (2020.6.20)\n",
            "Requirement already satisfied: urllib3!=1.25.0,!=1.25.1,<1.26,>=1.21.1 in /usr/local/lib/python3.6/dist-packages (from requests>=2.19.0->datasets) (1.24.3)\n",
            "Requirement already satisfied: idna<3,>=2.5 in /usr/local/lib/python3.6/dist-packages (from requests>=2.19.0->datasets) (2.10)\n",
            "Requirement already satisfied: chardet<4,>=3.0.2 in /usr/local/lib/python3.6/dist-packages (from requests>=2.19.0->datasets) (3.0.4)\n",
            "Requirement already satisfied: pytz>=2017.2 in /usr/local/lib/python3.6/dist-packages (from pandas->datasets) (2018.9)\n",
            "Requirement already satisfied: python-dateutil>=2.7.3 in /usr/local/lib/python3.6/dist-packages (from pandas->datasets) (2.8.1)\n",
            "Requirement already satisfied: six>=1.5 in /usr/local/lib/python3.6/dist-packages (from python-dateutil>=2.7.3->pandas->datasets) (1.15.0)\n",
            "Requirement already satisfied: transformers in /usr/local/lib/python3.6/dist-packages (3.4.0)\n",
            "Requirement already satisfied: regex!=2019.12.17 in /usr/local/lib/python3.6/dist-packages (from transformers) (2019.12.20)\n",
            "Requirement already satisfied: tqdm>=4.27 in /usr/local/lib/python3.6/dist-packages (from transformers) (4.41.1)\n",
            "Requirement already satisfied: protobuf in /usr/local/lib/python3.6/dist-packages (from transformers) (3.12.4)\n",
            "Requirement already satisfied: packaging in /usr/local/lib/python3.6/dist-packages (from transformers) (20.4)\n",
            "Requirement already satisfied: filelock in /usr/local/lib/python3.6/dist-packages (from transformers) (3.0.12)\n",
            "Requirement already satisfied: requests in /usr/local/lib/python3.6/dist-packages (from transformers) (2.23.0)\n",
            "Requirement already satisfied: sacremoses in /usr/local/lib/python3.6/dist-packages (from transformers) (0.0.43)\n",
            "Requirement already satisfied: tokenizers==0.9.2 in /usr/local/lib/python3.6/dist-packages (from transformers) (0.9.2)\n",
            "Requirement already satisfied: sentencepiece!=0.1.92 in /usr/local/lib/python3.6/dist-packages (from transformers) (0.1.94)\n",
            "Requirement already satisfied: dataclasses; python_version < \"3.7\" in /usr/local/lib/python3.6/dist-packages (from transformers) (0.7)\n",
            "Requirement already satisfied: numpy in /usr/local/lib/python3.6/dist-packages (from transformers) (1.18.5)\n",
            "Requirement already satisfied: setuptools in /usr/local/lib/python3.6/dist-packages (from protobuf->transformers) (50.3.2)\n",
            "Requirement already satisfied: six>=1.9 in /usr/local/lib/python3.6/dist-packages (from protobuf->transformers) (1.15.0)\n",
            "Requirement already satisfied: pyparsing>=2.0.2 in /usr/local/lib/python3.6/dist-packages (from packaging->transformers) (2.4.7)\n",
            "Requirement already satisfied: idna<3,>=2.5 in /usr/local/lib/python3.6/dist-packages (from requests->transformers) (2.10)\n",
            "Requirement already satisfied: urllib3!=1.25.0,!=1.25.1,<1.26,>=1.21.1 in /usr/local/lib/python3.6/dist-packages (from requests->transformers) (1.24.3)\n",
            "Requirement already satisfied: chardet<4,>=3.0.2 in /usr/local/lib/python3.6/dist-packages (from requests->transformers) (3.0.4)\n",
            "Requirement already satisfied: certifi>=2017.4.17 in /usr/local/lib/python3.6/dist-packages (from requests->transformers) (2020.6.20)\n",
            "Requirement already satisfied: click in /usr/local/lib/python3.6/dist-packages (from sacremoses->transformers) (7.1.2)\n",
            "Requirement already satisfied: joblib in /usr/local/lib/python3.6/dist-packages (from sacremoses->transformers) (0.17.0)\n"
          ],
          "name": "stdout"
        }
      ]
    },
    {
      "cell_type": "code",
      "metadata": {
        "id": "vEFFI0Kdp4k6"
      },
      "source": [
        "def get_datasets(dataset_name, train_size, val_size=1_000, test_size=None, random_seed: int = 42):\n",
        "    \"\"\"Returns \"\"\"\n",
        "    dataset = load_dataset(dataset_name, split=\"train\")\n",
        "    test_dataset = load_dataset(dataset_name, split=\"test\")\n",
        "    # We want test and validation data to be the same for every experiment\n",
        "    if test_size:\n",
        "        test_dataset = test_dataset.train_test_split(test_size=test_size, seed=random_seed)[\"test\"]\n",
        "    train_val_split = dataset.train_test_split(test_size=val_size, seed=random_seed)\n",
        "    # Validation and test sets\n",
        "    train_dataset = train_val_split[\"train\"].train_test_split(train_size=train_size, seed=random_seed)[\"train\"]\n",
        "    val_dataset = train_val_split[\"test\"]\n",
        "    return train_dataset, val_dataset, test_dataset\n",
        "\n",
        "\n",
        "class DataCollator:\n",
        "    def __init__(self, tokenizer):\n",
        "        self.tokenizer = tokenizer\n",
        "        \n",
        "    def __call__(self, examples: List[dict]):\n",
        "        labels = [example['label'] for example in examples]\n",
        "        texts = [example['text'] for example in examples]\n",
        "        tokenizer_output = self.tokenizer(texts, truncation=True, padding=True)\n",
        "        return {\n",
        "            'labels': torch.tensor(labels), \n",
        "            'input_ids': torch.tensor(tokenizer_output['input_ids']), \n",
        "            'attention_mask': torch.tensor(tokenizer_output['attention_mask'])\n",
        "            }\n",
        "\n",
        "\n",
        "\n",
        "def compute_metrics(pred):\n",
        "    labels = pred.label_ids\n",
        "    preds = pred.predictions.argmax(-1)\n",
        "    precision, recall, f1, _ = precision_recall_fscore_support(labels, preds, average='binary')\n",
        "    acc = accuracy_score(labels, preds)\n",
        "    return {\n",
        "        'accuracy': acc,\n",
        "        'f1': f1,\n",
        "        'precision': precision,\n",
        "        'recall': recall\n",
        "    }"
      ],
      "execution_count": 2,
      "outputs": []
    },
    {
      "cell_type": "code",
      "metadata": {
        "id": "sW2d5HGCqTTb",
        "outputId": "327f6f7a-94ce-4096-be3b-02922f457ae0",
        "colab": {
          "base_uri": "https://localhost:8080/"
        }
      },
      "source": [
        "tokenizer = AutoTokenizer.from_pretrained('roberta-base', use_fast=True)\n",
        "model = AutoModelForSequenceClassification.from_pretrained('roberta-base', return_dict=True)\n",
        "data_collator = DataCollator(tokenizer)"
      ],
      "execution_count": 3,
      "outputs": [
        {
          "output_type": "stream",
          "text": [
            "Some weights of the model checkpoint at roberta-base were not used when initializing RobertaForSequenceClassification: ['lm_head.bias', 'lm_head.dense.weight', 'lm_head.dense.bias', 'lm_head.layer_norm.weight', 'lm_head.layer_norm.bias', 'lm_head.decoder.weight', 'roberta.pooler.dense.weight', 'roberta.pooler.dense.bias']\n",
            "- This IS expected if you are initializing RobertaForSequenceClassification from the checkpoint of a model trained on another task or with another architecture (e.g. initializing a BertForSequenceClassification model from a BertForPretraining model).\n",
            "- This IS NOT expected if you are initializing RobertaForSequenceClassification from the checkpoint of a model that you expect to be exactly identical (initializing a BertForSequenceClassification model from a BertForSequenceClassification model).\n",
            "Some weights of RobertaForSequenceClassification were not initialized from the model checkpoint at roberta-base and are newly initialized: ['classifier.dense.weight', 'classifier.dense.bias', 'classifier.out_proj.weight', 'classifier.out_proj.bias']\n",
            "You should probably TRAIN this model on a down-stream task to be able to use it for predictions and inference.\n"
          ],
          "name": "stderr"
        }
      ]
    },
    {
      "cell_type": "code",
      "metadata": {
        "id": "ld0FI0F7qhMm",
        "outputId": "b216f8ea-aed6-4036-ac3d-7482a9da30ac",
        "colab": {
          "base_uri": "https://localhost:8080/",
          "height": 1000
        }
      },
      "source": [
        "TRAIN_SIZES = [20, 100, 1_000, 10_000]\n",
        "for train_size in TRAIN_SIZES:\n",
        "    train_dataset, val_dataset, test_dataset = get_datasets(\"yelp_polarity\", train_size, val_size=1_000, test_size=5_000)\n",
        "    print(f\"Train size: {len(train_dataset)}, Validation size: {len(val_dataset)}, Test size: {len(test_dataset)}\")\n",
        "    print(train_dataset[0])\n",
        "    print(val_dataset[0])\n",
        "    print(test_dataset[0])\n",
        "    output_dir = os.path.join(ROOT_DIR, f\"train_size_{train_size}\")\n",
        "\n",
        "    # https://huggingface.co/transformers/main_classes/trainer.html#trainingarguments\n",
        "    training_args = TrainingArguments(\n",
        "        learning_rate=3e-5,\n",
        "        weight_decay=0.01,\n",
        "        output_dir=output_dir,\n",
        "        num_train_epochs=6,\n",
        "        per_device_train_batch_size=8,\n",
        "        per_device_eval_batch_size=8,\n",
        "        gradient_accumulation_steps=2,  # actual batch size: 16 (as suggested in Bert paper)\n",
        "        warmup_steps=0,  # don't have any intuition for the right value here\n",
        "        logging_dir=output_dir,\n",
        "        logging_steps=10,\n",
        "        load_best_model_at_end=True,\n",
        "        evaluation_strategy='epoch',\n",
        "        remove_unused_columns=False,\n",
        "        no_cuda=False,\n",
        "    )\n",
        "\n",
        "    trainer = Trainer(\n",
        "        model=model,\n",
        "        args=training_args,\n",
        "        train_dataset=train_dataset,\n",
        "        eval_dataset=val_dataset,\n",
        "        data_collator=data_collator,\n",
        "        compute_metrics=compute_metrics\n",
        "        \n",
        "    )\n",
        "\n",
        "    trainer.train()\n",
        "\n",
        "    test_result = trainer.evaluate(test_dataset)\n",
        "\n",
        "    print(test_result)\n",
        "\n",
        "    with open(os.path.join(output_dir, 'test_result.json'), 'w') as f:\n",
        "        json.dump(test_result, f, indent=4)"
      ],
      "execution_count": 4,
      "outputs": [
        {
          "output_type": "stream",
          "text": [
            "Reusing dataset yelp_polarity (/root/.cache/huggingface/datasets/yelp_polarity/plain_text/1.0.0/2b33212d89209ed1ea0522001bccc5f5a5c920dd9c326f3c828e67a22c51a98c)\n",
            "Reusing dataset yelp_polarity (/root/.cache/huggingface/datasets/yelp_polarity/plain_text/1.0.0/2b33212d89209ed1ea0522001bccc5f5a5c920dd9c326f3c828e67a22c51a98c)\n",
            "Loading cached split indices for dataset at /root/.cache/huggingface/datasets/yelp_polarity/plain_text/1.0.0/2b33212d89209ed1ea0522001bccc5f5a5c920dd9c326f3c828e67a22c51a98c/cache-07a3bc09247d2cd5.arrow and /root/.cache/huggingface/datasets/yelp_polarity/plain_text/1.0.0/2b33212d89209ed1ea0522001bccc5f5a5c920dd9c326f3c828e67a22c51a98c/cache-c589a9143254ed8c.arrow\n",
            "Loading cached split indices for dataset at /root/.cache/huggingface/datasets/yelp_polarity/plain_text/1.0.0/2b33212d89209ed1ea0522001bccc5f5a5c920dd9c326f3c828e67a22c51a98c/cache-f3c2c50366d14000.arrow and /root/.cache/huggingface/datasets/yelp_polarity/plain_text/1.0.0/2b33212d89209ed1ea0522001bccc5f5a5c920dd9c326f3c828e67a22c51a98c/cache-bba5e3a2bfe9439d.arrow\n"
          ],
          "name": "stderr"
        },
        {
          "output_type": "stream",
          "text": [
            "Train size: 20, Validation size: 1000, Test size: 5000\n",
            "{'label': 0, 'text': 'For a minute I thought the commuter terminal at PHX didn\\'t even have a bar, then I stumbled into \\\\\"\"All Star Sports Bar.\\\\\"\"  After spending about an hour here I wish there was no bar at all. \\\\n\\\\nThis place fails on almost every level imaginable. \\\\n\\\\nFirst of all, it\\'s not anywhere close to being a sports bar.  2 TV\\'s and bartenders in referee uniforms doesn\\'t make you a sports bar.  Furthermore, the food here could not be worse.  \\\\n\\\\nLook - I\\'m not opposed to the plastic cheese from a can on nachos, but if you can\\'t even make that taste good, I can\\'t even begin to imagine what the rest of the food here is like. \\\\n\\\\nUnlike the other reviewers I actually found the service (at the bar) to be fine, if not indifferent, and the one good thing I will say about this place is that they do make a pretty good Bloody Mary. You can credit that to the Ocean Spray mix they used so it\\'s not exactly rocket science ... \\\\n\\\\nWhat can you do though? They have a captive audience though being the only game in the terminal after the security check point, I\\'d imagine this place is a zoo on Friday afternoons ...'}\n",
            "{'label': 1, 'text': \"Decent size, decent selection, decent staff.\\\\n\\\\nI guess that can wholly sum this place up, it's decent.  As with many other stores that are like this, the product rotates depending on what doesn't sale well at other stores.  Can always snag a deal here.  I was able to pick up a pretty sweet Puma jacket for $10, can't beat that, right?\\\\n\\\\nThat being said, there are those times that you may not find anything as well.  So really don't get your hopes up if you are looking for a specific item.\"}\n",
            "{'label': 1, 'text': \"Nightclub rating only...\\\\n\\\\nWe got lucky because we happened to arrive during Kris Humphries' (new husband of Kim Kardashian) bachelor party.\\\\n\\\\nI also saw Jordan Farmar, Lamar Odom and Scott.\\\\n\\\\nPlace was packed on a Saturday night and we didn't want to wait in line so we did bottle service. Cost us $575 total for 5 guys and we got grey goose and our choose of drinks.\\\\n\\\\nYou don't get your own VIP booth - you actually get to sit on a long couch and you get a small section along with the other bottle service people.\\\\n\\\\nOverall pretty cool club, but I think it's pretty small compared to others like XS, Marquee, JET, and Pure.\"}\n"
          ],
          "name": "stdout"
        },
        {
          "output_type": "display_data",
          "data": {
            "text/html": [
              "\n",
              "    <div>\n",
              "        <style>\n",
              "            /* Turns off some styling */\n",
              "            progress {\n",
              "                /* gets rid of default border in Firefox and Opera. */\n",
              "                border: none;\n",
              "                /* Needs to be in here for Safari polyfill so background images work as expected. */\n",
              "                background-size: auto;\n",
              "            }\n",
              "        </style>\n",
              "      \n",
              "      <progress value='6' max='6' style='width:300px; height:20px; vertical-align: middle;'></progress>\n",
              "      [6/6 06:18, Epoch 5/6]\n",
              "    </div>\n",
              "    <table border=\"1\" class=\"dataframe\">\n",
              "  <thead>\n",
              "    <tr style=\"text-align: left;\">\n",
              "      <th>Epoch</th>\n",
              "      <th>Training Loss</th>\n",
              "      <th>Validation Loss</th>\n",
              "      <th>Accuracy</th>\n",
              "      <th>F1</th>\n",
              "      <th>Precision</th>\n",
              "      <th>Recall</th>\n",
              "    </tr>\n",
              "  </thead>\n",
              "  <tbody>\n",
              "    <tr>\n",
              "      <td>0</td>\n",
              "      <td>No log</td>\n",
              "      <td>0.694498</td>\n",
              "      <td>0.505000</td>\n",
              "      <td>0.671096</td>\n",
              "      <td>0.505000</td>\n",
              "      <td>1.000000</td>\n",
              "    </tr>\n",
              "    <tr>\n",
              "      <td>1</td>\n",
              "      <td>No log</td>\n",
              "      <td>0.690641</td>\n",
              "      <td>0.505000</td>\n",
              "      <td>0.671096</td>\n",
              "      <td>0.505000</td>\n",
              "      <td>1.000000</td>\n",
              "    </tr>\n",
              "    <tr>\n",
              "      <td>2</td>\n",
              "      <td>No log</td>\n",
              "      <td>0.689164</td>\n",
              "      <td>0.517000</td>\n",
              "      <td>0.676490</td>\n",
              "      <td>0.511134</td>\n",
              "      <td>1.000000</td>\n",
              "    </tr>\n",
              "    <tr>\n",
              "      <td>3</td>\n",
              "      <td>No log</td>\n",
              "      <td>0.687780</td>\n",
              "      <td>0.620000</td>\n",
              "      <td>0.696000</td>\n",
              "      <td>0.583893</td>\n",
              "      <td>0.861386</td>\n",
              "    </tr>\n",
              "    <tr>\n",
              "      <td>4</td>\n",
              "      <td>No log</td>\n",
              "      <td>0.686923</td>\n",
              "      <td>0.630000</td>\n",
              "      <td>0.614583</td>\n",
              "      <td>0.648352</td>\n",
              "      <td>0.584158</td>\n",
              "    </tr>\n",
              "    <tr>\n",
              "      <td>5</td>\n",
              "      <td>No log</td>\n",
              "      <td>0.686440</td>\n",
              "      <td>0.617000</td>\n",
              "      <td>0.566251</td>\n",
              "      <td>0.661376</td>\n",
              "      <td>0.495050</td>\n",
              "    </tr>\n",
              "  </tbody>\n",
              "</table><p>"
            ],
            "text/plain": [
              "<IPython.core.display.HTML object>"
            ]
          },
          "metadata": {
            "tags": []
          }
        },
        {
          "output_type": "display_data",
          "data": {
            "text/html": [
              "\n",
              "    <div>\n",
              "        <style>\n",
              "            /* Turns off some styling */\n",
              "            progress {\n",
              "                /* gets rid of default border in Firefox and Opera. */\n",
              "                border: none;\n",
              "                /* Needs to be in here for Safari polyfill so background images work as expected. */\n",
              "                background-size: auto;\n",
              "            }\n",
              "        </style>\n",
              "      \n",
              "      <progress value='625' max='625' style='width:300px; height:20px; vertical-align: middle;'></progress>\n",
              "      [625/625 04:14]\n",
              "    </div>\n",
              "    "
            ],
            "text/plain": [
              "<IPython.core.display.HTML object>"
            ]
          },
          "metadata": {
            "tags": []
          }
        },
        {
          "output_type": "stream",
          "text": [
            "Reusing dataset yelp_polarity (/root/.cache/huggingface/datasets/yelp_polarity/plain_text/1.0.0/2b33212d89209ed1ea0522001bccc5f5a5c920dd9c326f3c828e67a22c51a98c)\n",
            "Reusing dataset yelp_polarity (/root/.cache/huggingface/datasets/yelp_polarity/plain_text/1.0.0/2b33212d89209ed1ea0522001bccc5f5a5c920dd9c326f3c828e67a22c51a98c)\n",
            "Loading cached split indices for dataset at /root/.cache/huggingface/datasets/yelp_polarity/plain_text/1.0.0/2b33212d89209ed1ea0522001bccc5f5a5c920dd9c326f3c828e67a22c51a98c/cache-07a3bc09247d2cd5.arrow and /root/.cache/huggingface/datasets/yelp_polarity/plain_text/1.0.0/2b33212d89209ed1ea0522001bccc5f5a5c920dd9c326f3c828e67a22c51a98c/cache-c589a9143254ed8c.arrow\n",
            "Loading cached split indices for dataset at /root/.cache/huggingface/datasets/yelp_polarity/plain_text/1.0.0/2b33212d89209ed1ea0522001bccc5f5a5c920dd9c326f3c828e67a22c51a98c/cache-f3c2c50366d14000.arrow and /root/.cache/huggingface/datasets/yelp_polarity/plain_text/1.0.0/2b33212d89209ed1ea0522001bccc5f5a5c920dd9c326f3c828e67a22c51a98c/cache-bba5e3a2bfe9439d.arrow\n",
            "Loading cached split indices for dataset at /root/.cache/huggingface/datasets/yelp_polarity/plain_text/1.0.0/2b33212d89209ed1ea0522001bccc5f5a5c920dd9c326f3c828e67a22c51a98c/cache-0ed23f55b26bd410.arrow and /root/.cache/huggingface/datasets/yelp_polarity/plain_text/1.0.0/2b33212d89209ed1ea0522001bccc5f5a5c920dd9c326f3c828e67a22c51a98c/cache-864a9cd099efb3de.arrow\n"
          ],
          "name": "stderr"
        },
        {
          "output_type": "stream",
          "text": [
            "Train size: 100, Validation size: 1000, Test size: 5000\n",
            "{'label': 1, 'text': 'In town for a short weekend trip and wanted a quick lunch.  Saw the reviews on Yelp and figured we had to give it a try.   Well, we loved it.    The service is amazing and friendly.   Joe, the owner, and his daughter, were lovely to chat with.     \\\\n\\\\nFood is fresh and prepared when you order.'}\n",
            "{'label': 1, 'text': \"Decent size, decent selection, decent staff.\\\\n\\\\nI guess that can wholly sum this place up, it's decent.  As with many other stores that are like this, the product rotates depending on what doesn't sale well at other stores.  Can always snag a deal here.  I was able to pick up a pretty sweet Puma jacket for $10, can't beat that, right?\\\\n\\\\nThat being said, there are those times that you may not find anything as well.  So really don't get your hopes up if you are looking for a specific item.\"}\n",
            "{'label': 1, 'text': \"Nightclub rating only...\\\\n\\\\nWe got lucky because we happened to arrive during Kris Humphries' (new husband of Kim Kardashian) bachelor party.\\\\n\\\\nI also saw Jordan Farmar, Lamar Odom and Scott.\\\\n\\\\nPlace was packed on a Saturday night and we didn't want to wait in line so we did bottle service. Cost us $575 total for 5 guys and we got grey goose and our choose of drinks.\\\\n\\\\nYou don't get your own VIP booth - you actually get to sit on a long couch and you get a small section along with the other bottle service people.\\\\n\\\\nOverall pretty cool club, but I think it's pretty small compared to others like XS, Marquee, JET, and Pure.\"}\n"
          ],
          "name": "stdout"
        },
        {
          "output_type": "display_data",
          "data": {
            "text/html": [
              "\n",
              "    <div>\n",
              "        <style>\n",
              "            /* Turns off some styling */\n",
              "            progress {\n",
              "                /* gets rid of default border in Firefox and Opera. */\n",
              "                border: none;\n",
              "                /* Needs to be in here for Safari polyfill so background images work as expected. */\n",
              "                background-size: auto;\n",
              "            }\n",
              "        </style>\n",
              "      \n",
              "      <progress value='36' max='36' style='width:300px; height:20px; vertical-align: middle;'></progress>\n",
              "      [36/36 07:25, Epoch 5/6]\n",
              "    </div>\n",
              "    <table border=\"1\" class=\"dataframe\">\n",
              "  <thead>\n",
              "    <tr style=\"text-align: left;\">\n",
              "      <th>Epoch</th>\n",
              "      <th>Training Loss</th>\n",
              "      <th>Validation Loss</th>\n",
              "      <th>Accuracy</th>\n",
              "      <th>F1</th>\n",
              "      <th>Precision</th>\n",
              "      <th>Recall</th>\n",
              "    </tr>\n",
              "  </thead>\n",
              "  <tbody>\n",
              "    <tr>\n",
              "      <td>0</td>\n",
              "      <td>No log</td>\n",
              "      <td>0.671638</td>\n",
              "      <td>0.782000</td>\n",
              "      <td>0.809107</td>\n",
              "      <td>0.725275</td>\n",
              "      <td>0.914851</td>\n",
              "    </tr>\n",
              "    <tr>\n",
              "      <td>1</td>\n",
              "      <td>0.711242</td>\n",
              "      <td>0.569951</td>\n",
              "      <td>0.747000</td>\n",
              "      <td>0.670143</td>\n",
              "      <td>0.980916</td>\n",
              "      <td>0.508911</td>\n",
              "    </tr>\n",
              "    <tr>\n",
              "      <td>2</td>\n",
              "      <td>0.711242</td>\n",
              "      <td>0.379999</td>\n",
              "      <td>0.896000</td>\n",
              "      <td>0.898438</td>\n",
              "      <td>0.886320</td>\n",
              "      <td>0.910891</td>\n",
              "    </tr>\n",
              "    <tr>\n",
              "      <td>3</td>\n",
              "      <td>0.499623</td>\n",
              "      <td>0.273090</td>\n",
              "      <td>0.915000</td>\n",
              "      <td>0.909478</td>\n",
              "      <td>0.983871</td>\n",
              "      <td>0.845545</td>\n",
              "    </tr>\n",
              "    <tr>\n",
              "      <td>4</td>\n",
              "      <td>0.200273</td>\n",
              "      <td>0.236310</td>\n",
              "      <td>0.925000</td>\n",
              "      <td>0.920467</td>\n",
              "      <td>0.990868</td>\n",
              "      <td>0.859406</td>\n",
              "    </tr>\n",
              "    <tr>\n",
              "      <td>5</td>\n",
              "      <td>0.200273</td>\n",
              "      <td>0.188462</td>\n",
              "      <td>0.943000</td>\n",
              "      <td>0.942132</td>\n",
              "      <td>0.966667</td>\n",
              "      <td>0.918812</td>\n",
              "    </tr>\n",
              "  </tbody>\n",
              "</table><p>"
            ],
            "text/plain": [
              "<IPython.core.display.HTML object>"
            ]
          },
          "metadata": {
            "tags": []
          }
        },
        {
          "output_type": "display_data",
          "data": {
            "text/html": [
              "\n",
              "    <div>\n",
              "        <style>\n",
              "            /* Turns off some styling */\n",
              "            progress {\n",
              "                /* gets rid of default border in Firefox and Opera. */\n",
              "                border: none;\n",
              "                /* Needs to be in here for Safari polyfill so background images work as expected. */\n",
              "                background-size: auto;\n",
              "            }\n",
              "        </style>\n",
              "      \n",
              "      <progress value='625' max='625' style='width:300px; height:20px; vertical-align: middle;'></progress>\n",
              "      [625/625 04:14]\n",
              "    </div>\n",
              "    "
            ],
            "text/plain": [
              "<IPython.core.display.HTML object>"
            ]
          },
          "metadata": {
            "tags": []
          }
        },
        {
          "output_type": "stream",
          "text": [
            "Reusing dataset yelp_polarity (/root/.cache/huggingface/datasets/yelp_polarity/plain_text/1.0.0/2b33212d89209ed1ea0522001bccc5f5a5c920dd9c326f3c828e67a22c51a98c)\n",
            "Reusing dataset yelp_polarity (/root/.cache/huggingface/datasets/yelp_polarity/plain_text/1.0.0/2b33212d89209ed1ea0522001bccc5f5a5c920dd9c326f3c828e67a22c51a98c)\n",
            "Loading cached split indices for dataset at /root/.cache/huggingface/datasets/yelp_polarity/plain_text/1.0.0/2b33212d89209ed1ea0522001bccc5f5a5c920dd9c326f3c828e67a22c51a98c/cache-07a3bc09247d2cd5.arrow and /root/.cache/huggingface/datasets/yelp_polarity/plain_text/1.0.0/2b33212d89209ed1ea0522001bccc5f5a5c920dd9c326f3c828e67a22c51a98c/cache-c589a9143254ed8c.arrow\n",
            "Loading cached split indices for dataset at /root/.cache/huggingface/datasets/yelp_polarity/plain_text/1.0.0/2b33212d89209ed1ea0522001bccc5f5a5c920dd9c326f3c828e67a22c51a98c/cache-f3c2c50366d14000.arrow and /root/.cache/huggingface/datasets/yelp_polarity/plain_text/1.0.0/2b33212d89209ed1ea0522001bccc5f5a5c920dd9c326f3c828e67a22c51a98c/cache-bba5e3a2bfe9439d.arrow\n",
            "Loading cached split indices for dataset at /root/.cache/huggingface/datasets/yelp_polarity/plain_text/1.0.0/2b33212d89209ed1ea0522001bccc5f5a5c920dd9c326f3c828e67a22c51a98c/cache-e3cc277851a6e07c.arrow and /root/.cache/huggingface/datasets/yelp_polarity/plain_text/1.0.0/2b33212d89209ed1ea0522001bccc5f5a5c920dd9c326f3c828e67a22c51a98c/cache-57ad0e75a24ccf60.arrow\n"
          ],
          "name": "stderr"
        },
        {
          "output_type": "stream",
          "text": [
            "Train size: 1000, Validation size: 1000, Test size: 5000\n",
            "{'label': 0, 'text': \"Let me just start by saying DO NOT BOOK THIS HOTEL... I will give you our experience is short then explain everything in full. Within the first 10 hours we were switched to 3 different rooms, treated like crap by all the employees and rooms smell either like cat piss or dirty trash!!! Okay here it goes:\\\\nSo this is everything off the top of my head... mix in extreme attitude from the staff as if they hate their jobs and are being forced to work there\\\\n1. We had to walk through the whole casino floor with 9 bags to the check in at 9:45pm\\\\n2. Check in line was 45 minutes which we understand is not their fault they were busy but at least be nice and smile \\\\n3. We go to the far tower with 9 bags to our room and our key doesnt work\\\\n4. We wait 25 minutes in a hot hallway for security to open our door you then acts like it isnt our room as if we are stupid and went to the wrong door and knocks over and over on the door\\\\n5. We have to add our other night online because they couldn't do it at the front desk check in, you can only book a room for that day at the front desks\\\\n6. call guest services to see where we go for a new key, she talks to us like we are a stupid child \\\\n7. We walk back down to the main lobby to  get new keys and to have them mark that we are staying in the same room, they said thats fine \\\\n8. We go over to talk to someone about all the problems and she tells us we cant stay in the same room because someone booked it for tomorrow, so she gives us a new room\\\\n9. We go get our bags and take them to the next room, same tower but up stairs... room smells funny and looks nothing like the pictures and has an old school tv in it\\\\n10. The light in our new bathroom is broken, we say f##k it we havent ate all day so lets go eat first\\\\n11. Its after midnight so everything is closed except a un appealing Deli, Krispy Cream and Vince Neils restaurant so we eat there \\\\n12. Back at the room we call to have the light fixed 2 hours later they still haven't come to fix it  so we cancel so we can go to bed\\\\n13. We wake up and call to have the light fixed. She hangs up on me after I tell her what's going on\\\\n14. We call to speak to a manager, they hang up on us \\\\n15. We call back and demand to speak to a manager, he finally gets on the phone we explain everything he says he is moving our room and dropping the charge for the night\\\\n16. I call bell service while my friend goes down and talks to the manager and get new keys, they tell me to call back because they arent going to come up get the bags and bring them down and then go back up (well what the heck  that's what we have been doing since we get there!!!) \\\\n17. Maid service just walks in no knock nothing and then is bitchy because we are still in the room and she is going to have to come back\\\\n18. We get the new room number, bell man comes up gets  The bags and takes us in a service elevator to our new room which is better then the last but smells like a dirty trash in a woman's restroom (if you know what I mean... dirty sanitary stuff) and again looks nothing like the pictures online\\\\n19. We have to go down stairs because it looks like he charged the upgrade card. He says it is a refund but its in the wrong column of the receipt, they're charge column is actually credits and the credits is actually charges... if this is true why don't they just fix that in the system?\\\\n20. We left a item in our room and called to tell them, they said it hadn't been turned in and to try back. In the next 24 hours before we left we called 3 times and each time they said no it hasn't been turned in or reported. So basically we know it was left on the bed and now our childs doll that we know was left in the bed magically got up and walked away within 2 hours from the first time we called!!! \\\\n\\\\nThe employees are so rude and just when you think something has been fixed for you something else goes wrong and they give you an attitude about it and talk down to you as if some how you being in the hotel is a bother. CUSTOMER SERVICE TRAINING IS NEEDED BY ALL STAFF!!! \\\\n\\\\nMind you my husband (who was not with us) works at a casino in San Diego and he was appalled by everything we were telling him, he said their hotel would be ashamed and be doing everything they could to fix everything and everything would have been comp'd (food everything) not just one night. I wasnt asking for all that I would have been happy with an apology, fixing the issue right away, no rudeness or something. I mean they treat you like they could careless if you come back and like you are bothering them by being there. Mind you we were very passive and not angry or rude at all like we should have been, and like the other people who were down at the front desks complaining!!! I don't like leaving bad reviews but this one is much needed!!!\"}\n",
            "{'label': 1, 'text': \"Decent size, decent selection, decent staff.\\\\n\\\\nI guess that can wholly sum this place up, it's decent.  As with many other stores that are like this, the product rotates depending on what doesn't sale well at other stores.  Can always snag a deal here.  I was able to pick up a pretty sweet Puma jacket for $10, can't beat that, right?\\\\n\\\\nThat being said, there are those times that you may not find anything as well.  So really don't get your hopes up if you are looking for a specific item.\"}\n",
            "{'label': 1, 'text': \"Nightclub rating only...\\\\n\\\\nWe got lucky because we happened to arrive during Kris Humphries' (new husband of Kim Kardashian) bachelor party.\\\\n\\\\nI also saw Jordan Farmar, Lamar Odom and Scott.\\\\n\\\\nPlace was packed on a Saturday night and we didn't want to wait in line so we did bottle service. Cost us $575 total for 5 guys and we got grey goose and our choose of drinks.\\\\n\\\\nYou don't get your own VIP booth - you actually get to sit on a long couch and you get a small section along with the other bottle service people.\\\\n\\\\nOverall pretty cool club, but I think it's pretty small compared to others like XS, Marquee, JET, and Pure.\"}\n"
          ],
          "name": "stdout"
        },
        {
          "output_type": "display_data",
          "data": {
            "text/html": [
              "\n",
              "    <div>\n",
              "        <style>\n",
              "            /* Turns off some styling */\n",
              "            progress {\n",
              "                /* gets rid of default border in Firefox and Opera. */\n",
              "                border: none;\n",
              "                /* Needs to be in here for Safari polyfill so background images work as expected. */\n",
              "                background-size: auto;\n",
              "            }\n",
              "        </style>\n",
              "      \n",
              "      <progress value='372' max='372' style='width:300px; height:20px; vertical-align: middle;'></progress>\n",
              "      [372/372 21:02, Epoch 5/6]\n",
              "    </div>\n",
              "    <table border=\"1\" class=\"dataframe\">\n",
              "  <thead>\n",
              "    <tr style=\"text-align: left;\">\n",
              "      <th>Epoch</th>\n",
              "      <th>Training Loss</th>\n",
              "      <th>Validation Loss</th>\n",
              "      <th>Accuracy</th>\n",
              "      <th>F1</th>\n",
              "      <th>Precision</th>\n",
              "      <th>Recall</th>\n",
              "    </tr>\n",
              "  </thead>\n",
              "  <tbody>\n",
              "    <tr>\n",
              "      <td>0</td>\n",
              "      <td>0.124411</td>\n",
              "      <td>0.312827</td>\n",
              "      <td>0.926000</td>\n",
              "      <td>0.931227</td>\n",
              "      <td>0.877408</td>\n",
              "      <td>0.992079</td>\n",
              "    </tr>\n",
              "    <tr>\n",
              "      <td>1</td>\n",
              "      <td>0.158581</td>\n",
              "      <td>0.207483</td>\n",
              "      <td>0.955000</td>\n",
              "      <td>0.956438</td>\n",
              "      <td>0.935606</td>\n",
              "      <td>0.978218</td>\n",
              "    </tr>\n",
              "    <tr>\n",
              "      <td>2</td>\n",
              "      <td>0.111012</td>\n",
              "      <td>0.338308</td>\n",
              "      <td>0.930000</td>\n",
              "      <td>0.933837</td>\n",
              "      <td>0.893309</td>\n",
              "      <td>0.978218</td>\n",
              "    </tr>\n",
              "    <tr>\n",
              "      <td>3</td>\n",
              "      <td>0.028893</td>\n",
              "      <td>0.402189</td>\n",
              "      <td>0.937000</td>\n",
              "      <td>0.940510</td>\n",
              "      <td>0.898917</td>\n",
              "      <td>0.986139</td>\n",
              "    </tr>\n",
              "    <tr>\n",
              "      <td>4</td>\n",
              "      <td>0.000350</td>\n",
              "      <td>0.253589</td>\n",
              "      <td>0.961000</td>\n",
              "      <td>0.961039</td>\n",
              "      <td>0.969758</td>\n",
              "      <td>0.952475</td>\n",
              "    </tr>\n",
              "    <tr>\n",
              "      <td>5</td>\n",
              "      <td>0.000307</td>\n",
              "      <td>0.252051</td>\n",
              "      <td>0.961000</td>\n",
              "      <td>0.960883</td>\n",
              "      <td>0.973577</td>\n",
              "      <td>0.948515</td>\n",
              "    </tr>\n",
              "  </tbody>\n",
              "</table><p>"
            ],
            "text/plain": [
              "<IPython.core.display.HTML object>"
            ]
          },
          "metadata": {
            "tags": []
          }
        },
        {
          "output_type": "display_data",
          "data": {
            "text/html": [
              "\n",
              "    <div>\n",
              "        <style>\n",
              "            /* Turns off some styling */\n",
              "            progress {\n",
              "                /* gets rid of default border in Firefox and Opera. */\n",
              "                border: none;\n",
              "                /* Needs to be in here for Safari polyfill so background images work as expected. */\n",
              "                background-size: auto;\n",
              "            }\n",
              "        </style>\n",
              "      \n",
              "      <progress value='625' max='625' style='width:300px; height:20px; vertical-align: middle;'></progress>\n",
              "      [625/625 04:14]\n",
              "    </div>\n",
              "    "
            ],
            "text/plain": [
              "<IPython.core.display.HTML object>"
            ]
          },
          "metadata": {
            "tags": []
          }
        },
        {
          "output_type": "stream",
          "text": [
            "Reusing dataset yelp_polarity (/root/.cache/huggingface/datasets/yelp_polarity/plain_text/1.0.0/2b33212d89209ed1ea0522001bccc5f5a5c920dd9c326f3c828e67a22c51a98c)\n",
            "Reusing dataset yelp_polarity (/root/.cache/huggingface/datasets/yelp_polarity/plain_text/1.0.0/2b33212d89209ed1ea0522001bccc5f5a5c920dd9c326f3c828e67a22c51a98c)\n",
            "Loading cached split indices for dataset at /root/.cache/huggingface/datasets/yelp_polarity/plain_text/1.0.0/2b33212d89209ed1ea0522001bccc5f5a5c920dd9c326f3c828e67a22c51a98c/cache-07a3bc09247d2cd5.arrow and /root/.cache/huggingface/datasets/yelp_polarity/plain_text/1.0.0/2b33212d89209ed1ea0522001bccc5f5a5c920dd9c326f3c828e67a22c51a98c/cache-c589a9143254ed8c.arrow\n",
            "Loading cached split indices for dataset at /root/.cache/huggingface/datasets/yelp_polarity/plain_text/1.0.0/2b33212d89209ed1ea0522001bccc5f5a5c920dd9c326f3c828e67a22c51a98c/cache-f3c2c50366d14000.arrow and /root/.cache/huggingface/datasets/yelp_polarity/plain_text/1.0.0/2b33212d89209ed1ea0522001bccc5f5a5c920dd9c326f3c828e67a22c51a98c/cache-bba5e3a2bfe9439d.arrow\n"
          ],
          "name": "stderr"
        },
        {
          "output_type": "stream",
          "text": [
            "Train size: 10000, Validation size: 1000, Test size: 5000\n",
            "{'label': 1, 'text': 'This place is awesome the food is good..'}\n",
            "{'label': 1, 'text': \"Decent size, decent selection, decent staff.\\\\n\\\\nI guess that can wholly sum this place up, it's decent.  As with many other stores that are like this, the product rotates depending on what doesn't sale well at other stores.  Can always snag a deal here.  I was able to pick up a pretty sweet Puma jacket for $10, can't beat that, right?\\\\n\\\\nThat being said, there are those times that you may not find anything as well.  So really don't get your hopes up if you are looking for a specific item.\"}\n",
            "{'label': 1, 'text': \"Nightclub rating only...\\\\n\\\\nWe got lucky because we happened to arrive during Kris Humphries' (new husband of Kim Kardashian) bachelor party.\\\\n\\\\nI also saw Jordan Farmar, Lamar Odom and Scott.\\\\n\\\\nPlace was packed on a Saturday night and we didn't want to wait in line so we did bottle service. Cost us $575 total for 5 guys and we got grey goose and our choose of drinks.\\\\n\\\\nYou don't get your own VIP booth - you actually get to sit on a long couch and you get a small section along with the other bottle service people.\\\\n\\\\nOverall pretty cool club, but I think it's pretty small compared to others like XS, Marquee, JET, and Pure.\"}\n"
          ],
          "name": "stdout"
        },
        {
          "output_type": "display_data",
          "data": {
            "text/html": [
              "\n",
              "    <div>\n",
              "        <style>\n",
              "            /* Turns off some styling */\n",
              "            progress {\n",
              "                /* gets rid of default border in Firefox and Opera. */\n",
              "                border: none;\n",
              "                /* Needs to be in here for Safari polyfill so background images work as expected. */\n",
              "                background-size: auto;\n",
              "            }\n",
              "        </style>\n",
              "      \n",
              "      <progress value='3750' max='3750' style='width:300px; height:20px; vertical-align: middle;'></progress>\n",
              "      [3750/3750 2:30:08, Epoch 6/6]\n",
              "    </div>\n",
              "    <table border=\"1\" class=\"dataframe\">\n",
              "  <thead>\n",
              "    <tr style=\"text-align: left;\">\n",
              "      <th>Epoch</th>\n",
              "      <th>Training Loss</th>\n",
              "      <th>Validation Loss</th>\n",
              "      <th>Accuracy</th>\n",
              "      <th>F1</th>\n",
              "      <th>Precision</th>\n",
              "      <th>Recall</th>\n",
              "    </tr>\n",
              "  </thead>\n",
              "  <tbody>\n",
              "    <tr>\n",
              "      <td>1</td>\n",
              "      <td>0.141533</td>\n",
              "      <td>0.129239</td>\n",
              "      <td>0.960000</td>\n",
              "      <td>0.960396</td>\n",
              "      <td>0.960396</td>\n",
              "      <td>0.960396</td>\n",
              "    </tr>\n",
              "    <tr>\n",
              "      <td>2</td>\n",
              "      <td>0.079735</td>\n",
              "      <td>0.120618</td>\n",
              "      <td>0.972000</td>\n",
              "      <td>0.972056</td>\n",
              "      <td>0.979879</td>\n",
              "      <td>0.964356</td>\n",
              "    </tr>\n",
              "    <tr>\n",
              "      <td>3</td>\n",
              "      <td>0.049576</td>\n",
              "      <td>0.194458</td>\n",
              "      <td>0.966000</td>\n",
              "      <td>0.966797</td>\n",
              "      <td>0.953757</td>\n",
              "      <td>0.980198</td>\n",
              "    </tr>\n",
              "    <tr>\n",
              "      <td>4</td>\n",
              "      <td>0.015181</td>\n",
              "      <td>0.223050</td>\n",
              "      <td>0.969000</td>\n",
              "      <td>0.969277</td>\n",
              "      <td>0.970238</td>\n",
              "      <td>0.968317</td>\n",
              "    </tr>\n",
              "    <tr>\n",
              "      <td>5</td>\n",
              "      <td>0.028983</td>\n",
              "      <td>0.230698</td>\n",
              "      <td>0.968000</td>\n",
              "      <td>0.968127</td>\n",
              "      <td>0.973948</td>\n",
              "      <td>0.962376</td>\n",
              "    </tr>\n",
              "    <tr>\n",
              "      <td>6</td>\n",
              "      <td>0.000154</td>\n",
              "      <td>0.238671</td>\n",
              "      <td>0.971000</td>\n",
              "      <td>0.971029</td>\n",
              "      <td>0.979839</td>\n",
              "      <td>0.962376</td>\n",
              "    </tr>\n",
              "  </tbody>\n",
              "</table><p>"
            ],
            "text/plain": [
              "<IPython.core.display.HTML object>"
            ]
          },
          "metadata": {
            "tags": []
          }
        },
        {
          "output_type": "display_data",
          "data": {
            "text/html": [
              "\n",
              "    <div>\n",
              "        <style>\n",
              "            /* Turns off some styling */\n",
              "            progress {\n",
              "                /* gets rid of default border in Firefox and Opera. */\n",
              "                border: none;\n",
              "                /* Needs to be in here for Safari polyfill so background images work as expected. */\n",
              "                background-size: auto;\n",
              "            }\n",
              "        </style>\n",
              "      \n",
              "      <progress value='625' max='625' style='width:300px; height:20px; vertical-align: middle;'></progress>\n",
              "      [625/625 04:14]\n",
              "    </div>\n",
              "    "
            ],
            "text/plain": [
              "<IPython.core.display.HTML object>"
            ]
          },
          "metadata": {
            "tags": []
          }
        }
      ]
    }
  ]
}